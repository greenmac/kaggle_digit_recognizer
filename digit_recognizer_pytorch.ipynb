{
 "nbformat": 4,
 "nbformat_minor": 2,
 "metadata": {
  "language_info": {
   "name": "python",
   "codemirror_mode": {
    "name": "ipython",
    "version": 3
   },
   "version": "3.7.6-final"
  },
  "orig_nbformat": 2,
  "file_extension": ".py",
  "mimetype": "text/x-python",
  "name": "python",
  "npconvert_exporter": "python",
  "pygments_lexer": "ipython3",
  "version": 3,
  "kernelspec": {
   "name": "python37664bit2bb1bd9dd6ae43d5944ca9980d9362e3",
   "display_name": "Python 3.7.6 64-bit"
  }
 },
 "cells": [
  {
   "cell_type": "code",
   "execution_count": 1,
   "metadata": {},
   "outputs": [
    {
     "name": "stdout",
     "output_type": "stream",
     "text": "['sample_submission.csv', 'test.csv', 'train.csv']\n"
    }
   ],
   "source": [
    "import numpy as np\n",
    "import pandas as pd\n",
    "import matplotlib.pyplot as plt\n",
    "\n",
    "import os\n",
    "print(os.listdir('input'))"
   ]
  },
  {
   "cell_type": "code",
   "execution_count": 2,
   "metadata": {},
   "outputs": [],
   "source": [
    "import torch\n",
    "import torch.nn as nn\n",
    "import torchvision.transforms as transforms\n",
    "from torch.autograd import Variable\n",
    "from sklearn.model_selection import train_test_split"
   ]
  },
  {
   "cell_type": "code",
   "execution_count": 3,
   "metadata": {},
   "outputs": [
    {
     "data": {
      "image/png": "[encoded data removed]",
      "image/svg+xml": "<?xml version=\"1.0\" encoding=\"utf-8\" standalone=\"no\"?>\r\n<!DOCTYPE svg PUBLIC \"-//W3C//DTD SVG 1.1//EN\"\r\n  \"http://www.w3.org/Graphics/SVG/1.1/DTD/svg11.dtd\">\r\n<!-- Created with matplotlib (https://matplotlib.org/) -->\r\n<svg height=\"246.958125pt\" version=\"1.1\" viewBox=\"0 0 231.84 246.958125\" width=\"231.84pt\" xmlns=\"http://www.w3.org/2000/svg\" xmlns:xlink=\"http://www.w3.org/1999/xlink\">\r\n <defs>\r\n  <style type=\"text/css\">\r\n*{stroke-linecap:butt;stroke-linejoin:round;}\r\n  </style>\r\n </defs>\r\n <g id=\"figure_1\">\r\n  <g id=\"patch_1\">\r\n   <path d=\"M 0 246.958125 \r\nL 231.84 246.958125 \r\nL 231.84 0 \r\nL 0 0 \r\nz\r\n\" style=\"fill:none;\"/>\r\n  </g>\r\n  <g id=\"axes_1\">\r\n   <g clip-path=\"url(#p68f31d71d7)\">\r\n    <image height=\"218\" id=\"image79c11f0daa\" transform=\"scale(1 -1)translate(0 -218)\" width=\"218\" x=\"7.2\" xlink:href=\"data:image/png;base64,\r\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\" y=\"-21.758125\"/>\r\n   </g>\r\n   <g id=\"text_1\">\r\n    <!-- 8.0 -->\r\n    <defs>\r\n     <path d=\"M 31.78125 34.625 \r\nQ 24.75 34.625 20.71875 30.859375 \r\nQ 16.703125 27.09375 16.703125 20.515625 \r\nQ 16.703125 13.921875 20.71875 10.15625 \r\nQ 24.75 6.390625 31.78125 6.390625 \r\nQ 38.8125 6.390625 42.859375 10.171875 \r\nQ 46.921875 13.96875 46.921875 20.515625 \r\nQ 46.921875 27.09375 42.890625 30.859375 \r\nQ 38.875 34.625 31.78125 34.625 \r\nz\r\nM 21.921875 38.8125 \r\nQ 15.578125 40.375 12.03125 44.71875 \r\nQ 8.5 49.078125 8.5 55.328125 \r\nQ 8.5 64.0625 14.71875 69.140625 \r\nQ 20.953125 74.21875 31.78125 74.21875 \r\nQ 42.671875 74.21875 48.875 69.140625 \r\nQ 55.078125 64.0625 55.078125 55.328125 \r\nQ 55.078125 49.078125 51.53125 44.71875 \r\nQ 48 40.375 41.703125 38.8125 \r\nQ 48.828125 37.15625 52.796875 32.3125 \r\nQ 56.78125 27.484375 56.78125 20.515625 \r\nQ 56.78125 9.90625 50.3125 4.234375 \r\nQ 43.84375 -1.421875 31.78125 -1.421875 \r\nQ 19.734375 -1.421875 13.25 4.234375 \r\nQ 6.78125 9.90625 6.78125 20.515625 \r\nQ 6.78125 27.484375 10.78125 32.3125 \r\nQ 14.796875 37.15625 21.921875 38.8125 \r\nz\r\nM 18.3125 54.390625 \r\nQ 18.3125 48.734375 21.84375 45.5625 \r\nQ 25.390625 42.390625 31.78125 42.390625 \r\nQ 38.140625 42.390625 41.71875 45.5625 \r\nQ 45.3125 48.734375 45.3125 54.390625 \r\nQ 45.3125 60.0625 41.71875 63.234375 \r\nQ 38.140625 66.40625 31.78125 66.40625 \r\nQ 25.390625 66.40625 21.84375 63.234375 \r\nQ 18.3125 60.0625 18.3125 54.390625 \r\nz\r\n\" id=\"DejaVuSans-56\"/>\r\n     <path d=\"M 10.6875 12.40625 \r\nL 21 12.40625 \r\nL 21 0 \r\nL 10.6875 0 \r\nz\r\n\" id=\"DejaVuSans-46\"/>\r\n     <path d=\"M 31.78125 66.40625 \r\nQ 24.171875 66.40625 20.328125 58.90625 \r\nQ 16.5 51.421875 16.5 36.375 \r\nQ 16.5 21.390625 20.328125 13.890625 \r\nQ 24.171875 6.390625 31.78125 6.390625 \r\nQ 39.453125 6.390625 43.28125 13.890625 \r\nQ 47.125 21.390625 47.125 36.375 \r\nQ 47.125 51.421875 43.28125 58.90625 \r\nQ 39.453125 66.40625 31.78125 66.40625 \r\nz\r\nM 31.78125 74.21875 \r\nQ 44.046875 74.21875 50.515625 64.515625 \r\nQ 56.984375 54.828125 56.984375 36.375 \r\nQ 56.984375 17.96875 50.515625 8.265625 \r\nQ 44.046875 -1.421875 31.78125 -1.421875 \r\nQ 19.53125 -1.421875 13.0625 8.265625 \r\nQ 6.59375 17.96875 6.59375 36.375 \r\nQ 6.59375 54.828125 13.0625 64.515625 \r\nQ 19.53125 74.21875 31.78125 74.21875 \r\nz\r\n\" id=\"DejaVuSans-48\"/>\r\n    </defs>\r\n    <g transform=\"translate(106.378125 16.318125)scale(0.12 -0.12)\">\r\n     <use xlink:href=\"#DejaVuSans-56\"/>\r\n     <use x=\"63.623047\" xlink:href=\"#DejaVuSans-46\"/>\r\n     <use x=\"95.410156\" xlink:href=\"#DejaVuSans-48\"/>\r\n    </g>\r\n   </g>\r\n  </g>\r\n </g>\r\n <defs>\r\n  <clipPath id=\"p68f31d71d7\">\r\n   <rect height=\"217.44\" width=\"217.44\" x=\"7.2\" y=\"22.318125\"/>\r\n  </clipPath>\r\n </defs>\r\n</svg>\r\n",
      "text/plain": "<Figure size 432x288 with 1 Axes>"
     },
     "metadata": {
      "needs_background": "light"
     },
     "output_type": "display_data"
    }
   ],
   "source": [
    "train = pd.read_csv(r'input/train.csv', dtype=np.float32)\n",
    "\n",
    "targets_numpy = train.label.values\n",
    "features_numpy = train.loc[:, train.columns != 'label'].values/255 # normalization\n",
    "\n",
    "features_train, features_test, targets_train, targets_test = train_test_split(\n",
    "    features_numpy, targets_numpy, test_size=0.2, random_state=42)\n",
    "\n",
    "# create feature and targets tensor for train set.\n",
    "featuresTrain = torch.from_numpy(features_train)\n",
    "targetsTrain = torch.from_numpy(targets_train).type(torch.LongTensor) # data type is long\n",
    "\n",
    "# create feature and targets tensor for test set.\n",
    "featuresTest = torch.from_numpy(features_test)\n",
    "targetsTest = torch.from_numpy(targets_test) # data type is long\n",
    "\n",
    "# batch_size, epoch and iteration\n",
    "batch_size = 100\n",
    "n_iters = 10000\n",
    "num_epochs = n_iters / (len(features_train)/batch_size)\n",
    "num_epochs = int(num_epochs)\n",
    "\n",
    "# Pytorch train and test sets\n",
    "train = torch.utils.data.TensorDataset(featuresTrain, targetsTrain)\n",
    "test = torch.utils.data.TensorDataset(featuresTest,targetsTest)\n",
    "\n",
    "# data loader\n",
    "train_loader = torch.utils.data.DataLoader(train, batch_size = batch_size, shuffle = False)\n",
    "test_loader = torch.utils.data.DataLoader(test, batch_size = batch_size, shuffle = False)\n",
    "\n",
    "# visualize one of the images in data set\n",
    "plt.imshow(features_numpy[10].reshape(28, 28))\n",
    "plt.axis('off')\n",
    "plt.title(str(targets_numpy[10]))\n",
    "plt.savefig('graph.png')\n",
    "plt.show()"
   ]
  },
  {
   "cell_type": "code",
   "execution_count": 5,
   "metadata": {},
   "outputs": [],
   "source": [
    "# Create RNN Model\n",
    "class RNNModel(nn.Module):\n",
    "    def __init__(self, input_dim, hidden_dim, layer_dim, output_dim):\n",
    "        super(RNNModel, self).__init__()\n",
    "        # Number of hidden dimensions\n",
    "        self.hidden_dim = hidden_dim\n",
    "        \n",
    "        # Number of hidden layers\n",
    "        self.layer_dim = layer_dim\n",
    "\n",
    "        #RNN\n",
    "        self.rnn = nn.RNN(input_dim, hidden_dim, layer_dim, batch_first=True, \n",
    "                          nonlinearity='relu')\n",
    "        # Readout layer\n",
    "        self.fc = nn.Linear(hidden_dim, output_dim)\n",
    "\n",
    "    def forward(self, x):\n",
    "        # Initialize hidden state with zeros\n",
    "        h0 = Variable(torch.zeros(self.layer_dim, x.size(0), self.hidden_dim))\n",
    "            \n",
    "        # One time step\n",
    "        out, hn = self.rnn(x, h0)\n",
    "        out = self.fc(out[:, -1, :]) \n",
    "        return out        "
   ]
  },
  {
   "cell_type": "code",
   "execution_count": null,
   "metadata": {},
   "outputs": [],
   "source": []
  }
 ]
}